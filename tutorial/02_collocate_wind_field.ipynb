{
 "cells": [
  {
   "cell_type": "code",
   "execution_count": 2,
   "metadata": {},
   "outputs": [],
   "source": [
    "%matplotlib inline\n",
    "from nansat import Nansat\n",
    "import numpy as np\n",
    "from openwind.wind_data import fetch_era5_data, preprocess_era5_data\n",
    "from datetime import timedelta\n",
    "import matplotlib.pyplot as plt\n",
    "import urllib3\n",
    "urllib3.disable_warnings(urllib3.exceptions.InsecureRequestWarning)\n"
   ]
  },
  {
   "cell_type": "code",
   "execution_count": 3,
   "metadata": {},
   "outputs": [
    {
     "data": {
      "text/plain": [
       "0.05"
      ]
     },
     "execution_count": 3,
     "metadata": {},
     "output_type": "execute_result"
    }
   ],
   "source": [
    "# Step 1: Define search parameters (time and coordinates) to find ERA5 field\n",
    "# In case of collocation with Sentinel-1 data these parameters can be extracted from the \n",
    "# Sentinel-1 product metadata.\n",
    "\n",
    "# Read a Sentinel-1 L1 GRD product using Nansat\n",
    "s1_frame = Nansat('/src/.devcontainer/S1A_IW_GRDH_1SDV_20220110T173429_20220110T173454_041401_04EC3B_31E4.SAFE')\n",
    "# In order to speed up the processing we will resample the Sentinel-1 product to a pixel size of about 200 m\n",
    "s1_frame.resize(0.05, resample_alg=1)"
   ]
  },
  {
   "cell_type": "code",
   "execution_count": 4,
   "metadata": {},
   "outputs": [],
   "source": [
    "s1_lons, s1_lats = s1_frame.get_geolocation_grids()\n",
    "central_lon = np.nanmean(s1_lons)\n",
    "central_lat = np.nanmean(s1_lats)"
   ]
  },
  {
   "cell_type": "code",
   "execution_count": 5,
   "metadata": {},
   "outputs": [],
   "source": [
    "s1_time = s1_frame.time_coverage_start\n",
    "s1_time = s1_time if s1_time.minute <= 30 else s1_time + timedelta(hours=1)"
   ]
  },
  {
   "cell_type": "code",
   "execution_count": 6,
   "metadata": {},
   "outputs": [
    {
     "name": "stdout",
     "output_type": "stream",
     "text": [
      ">> Downloading /src/.devcontainer/ERA5_20220110T1800.nc\n"
     ]
    },
    {
     "name": "stderr",
     "output_type": "stream",
     "text": [
      "2022-09-29 07:21:52,828 INFO Welcome to the CDS\n",
      "2022-09-29 07:21:52,834 INFO Sending request to https://cds.climate.copernicus.eu/api/v2/resources/reanalysis-era5-single-levels\n",
      "2022-09-29 07:21:53,044 INFO Request is completed\n",
      "2022-09-29 07:21:53,048 INFO Downloading https://download-0001-clone.copernicus-climate.eu/cache-compute-0001/cache/data1/adaptor.mars.internal-1664359637.4650042-4907-10-a34c7353-d42c-4042-be15-d603029f21ff.nc to /src/.devcontainer/ERA5_20220110T1800.nc (8.2K)\n",
      "2022-09-29 07:21:53,798 INFO Download rate 11K/s\n"
     ]
    }
   ],
   "source": [
    "# Find and download ERA5 data\n",
    "era5_uri = fetch_era5_data(s1_time, central_lat, central_lon, '/src/.devcontainer/')"
   ]
  },
  {
   "cell_type": "code",
   "execution_count": 25,
   "metadata": {},
   "outputs": [
    {
     "name": "stdout",
     "output_type": "stream",
     "text": [
      ">> Processing /src/.devcontainer/ERA5_20220110T1800.nc\n"
     ]
    },
    {
     "name": "stderr",
     "output_type": "stream",
     "text": [
      "/opt/conda/lib/python3.7/site-packages/nansat-1.5.2-py3.7-linux-x86_64.egg/nansat/mappers/mapper_netcdf_cf.py:390: UserWarning: GDAL cannot determine the dataset projection - using Nansat spatial reference WKT, assuming a regular longitude/latitude grid\n",
      "  warnings.warn('GDAL cannot determine the dataset projection - using Nansat ' \\\n",
      "/opt/conda/lib/python3.7/site-packages/nansat-1.5.2-py3.7-linux-x86_64.egg/nansat/mappers/mapper_netcdf_cf.py:390: UserWarning: GDAL cannot determine the dataset projection - using Nansat spatial reference WKT, assuming a regular longitude/latitude grid\n",
      "  warnings.warn('GDAL cannot determine the dataset projection - using Nansat ' \\\n"
     ]
    }
   ],
   "source": [
    "# Derive wind speed and direction from the model\n",
    "wind_spd, wind_dir = preprocess_era5(era5_uri, dst_geometry=s1_frame)"
   ]
  },
  {
   "cell_type": "code",
   "execution_count": 8,
   "metadata": {},
   "outputs": [
    {
     "name": "stderr",
     "output_type": "stream",
     "text": [
      "/opt/conda/lib/python3.7/site-packages/nansat-1.5.2-py3.7-linux-x86_64.egg/nansat/mappers/mapper_netcdf_cf.py:390: UserWarning: GDAL cannot determine the dataset projection - using Nansat spatial reference WKT, assuming a regular longitude/latitude grid\n",
      "  warnings.warn('GDAL cannot determine the dataset projection - using Nansat ' \\\n",
      "/opt/conda/lib/python3.7/site-packages/nansat-1.5.2-py3.7-linux-x86_64.egg/nansat/mappers/mapper_netcdf_cf.py:390: UserWarning: GDAL cannot determine the dataset projection - using Nansat spatial reference WKT, assuming a regular longitude/latitude grid\n",
      "  warnings.warn('GDAL cannot determine the dataset projection - using Nansat ' \\\n"
     ]
    }
   ],
   "source": [
    "n = Nansat(str(era5_uri))"
   ]
  },
  {
   "cell_type": "code",
   "execution_count": 10,
   "metadata": {},
   "outputs": [
    {
     "data": {
      "text/plain": [
       "{'Conventions': 'CF-1.6',\n",
       " 'filename': '/vsimem/6DMOV8E5OF.vrt',\n",
       " 'history': '2022-09-28 10:07:17 GMT by grib_to_netcdf-2.25.1: /opt/ecmwf/mars-client/bin/grib_to_netcdf.bin -S param -o /cache/data1/adaptor.mars.internal-1664359637.4650042-4907-10-a34c7353-d42c-4042-be15-d603029f21ff.nc /cache/tmp/a34c7353-d42c-4042-be15-d603029f21ff-adaptor.mars.internal-1664359634.6652615-4907-11-tmp.grib'}"
      ]
     },
     "execution_count": 10,
     "metadata": {},
     "output_type": "execute_result"
    }
   ],
   "source": [
    "n.get_metadata()"
   ]
  },
  {
   "cell_type": "code",
   "execution_count": 11,
   "metadata": {},
   "outputs": [],
   "source": [
    "import netCDF4 as nc"
   ]
  },
  {
   "cell_type": "code",
   "execution_count": 12,
   "metadata": {},
   "outputs": [
    {
     "data": {
      "text/plain": [
       "<class 'netCDF4._netCDF4.Dataset'>\n",
       "root group (NETCDF3_64BIT_OFFSET data model, file format NETCDF3):\n",
       "    Conventions: CF-1.6\n",
       "    history: 2022-09-28 10:07:17 GMT by grib_to_netcdf-2.25.1: /opt/ecmwf/mars-client/bin/grib_to_netcdf.bin -S param -o /cache/data1/adaptor.mars.internal-1664359637.4650042-4907-10-a34c7353-d42c-4042-be15-d603029f21ff.nc /cache/tmp/a34c7353-d42c-4042-be15-d603029f21ff-adaptor.mars.internal-1664359634.6652615-4907-11-tmp.grib\n",
       "    dimensions(sizes): longitude(41), latitude(41), time(1)\n",
       "    variables(dimensions): float32 longitude(longitude), float32 latitude(latitude), int32 time(time), int16 u10(time, latitude, longitude), int16 v10(time, latitude, longitude)\n",
       "    groups: "
      ]
     },
     "execution_count": 12,
     "metadata": {},
     "output_type": "execute_result"
    }
   ],
   "source": [
    "nc.Dataset(era5_uri)"
   ]
  },
  {
   "cell_type": "code",
   "execution_count": null,
   "metadata": {},
   "outputs": [],
   "source": []
  }
 ],
 "metadata": {
  "kernelspec": {
   "display_name": "Python 3.7.12 ('base')",
   "language": "python",
   "name": "python3"
  },
  "language_info": {
   "codemirror_mode": {
    "name": "ipython",
    "version": 3
   },
   "file_extension": ".py",
   "mimetype": "text/x-python",
   "name": "python",
   "nbconvert_exporter": "python",
   "pygments_lexer": "ipython3",
   "version": "3.7.12"
  },
  "orig_nbformat": 4,
  "vscode": {
   "interpreter": {
    "hash": "d4d1e4263499bec80672ea0156c357c1ee493ec2b1c70f0acce89fc37c4a6abe"
   }
  }
 },
 "nbformat": 4,
 "nbformat_minor": 2
}
