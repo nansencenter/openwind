{
 "cells": [
  {
   "cell_type": "code",
   "execution_count": 3,
   "metadata": {},
   "outputs": [],
   "source": [
    "from openwind.sar_data import fetch_asf_s1_data, preprocess_s1_data\n",
    "import asf_search as asf\n",
    "from shapely.geometry import Polygon\n",
    "import folium"
   ]
  },
  {
   "cell_type": "markdown",
   "metadata": {},
   "source": [
    "### Search and download Sentinel-1 data\n",
    "1. Specify search parameters such as area, platform, product type, time start, and time end, etc.\n",
    "2. Find data at the Alaska SAR facility (ASF) using **asf_search** (https://docs.asf.alaska.edu/asf_search/basics/) package and src parameters\n",
    "3. Explore data on an interactive map\n",
    "4. Download products from ASF to a local directory"
   ]
  },
  {
   "cell_type": "code",
   "execution_count": 4,
   "metadata": {},
   "outputs": [],
   "source": [
    "# Step 1: Define an area for the data search, for example by defining corners of a rectangular polygon.\n",
    "# API will find all data in ASF database overlaping with the search area \n",
    "# NOTE: Any polygone shape can be used to search for the data\n",
    "src_poly = Polygon([(16, -31.5), (20, -31.5), (20, -36), (16, -36), (16, -31.5)])\n",
    "\n",
    "# Step 2: Define search parameters such as platform, beam, time coverage, and product type.\n",
    "# More information on available query fields can be found at https://docs.asf.alaska.edu/asf_search/searching/\n",
    "# The openwind requires a query dictionary:\n",
    "\n",
    "query = {\n",
    "    'platform': asf.PLATFORM.SENTINEL1,\n",
    "    'start': '2022-01-10T00:00:00Z',\n",
    "    'end': '2022-01-10T23:59:59Z',\n",
    "    'beamMode': asf.BEAMMODE.IW,\n",
    "    'processingLevel': asf.PRODUCT_TYPE.GRD_HD,\n",
    "    'intersectsWith': src_poly.wkt,   # NOTE: We add a geometry from the Step 1 in the WKT format\n",
    "}\n",
    "\n",
    "# The list of parameters defined in the <query> will find all Sentinel-1 A and B  Interferometric Wide (IW) \n",
    "# Level 1 GRD HD products overlaping with the search polygon on 10 January 2022 between 00:00 and 23:59 hours"
   ]
  },
  {
   "cell_type": "code",
   "execution_count": 5,
   "metadata": {},
   "outputs": [
    {
     "name": "stdout",
     "output_type": "stream",
     "text": [
      ">> Found 4 products in ASF database\n"
     ]
    }
   ],
   "source": [
    "# Step 3: Find data at the ASF database according to your quety using openwind fetch_asf_s1_data method\n",
    "# At this step we only acquire metadata and don't download any data. It saves a lot of time for prelimenary\n",
    "# data examination.\n",
    "# NOTE: All found datasets can be downloaded later see Step 3*\n",
    "asf_query_set, downloaded_uris = fetch_asf_s1_data(query=query, download=False)\n",
    "\n",
    "# Step 3*. If you want to download all found files you can use\n",
    "# asf_query_set, downloaded_uris = fetch_asf_s1_data(query=query, download=True, dst='/path/to/data', unpack=True)"
   ]
  },
  {
   "cell_type": "code",
   "execution_count": 6,
   "metadata": {},
   "outputs": [
    {
     "data": {
      "text/html": [
       "<iframe srcdoc=\"&lt;!DOCTYPE html&gt;\n",
       "&lt;head&gt;    \n",
       "    &lt;meta http-equiv=&quot;content-type&quot; content=&quot;text/html; charset=UTF-8&quot; /&gt;\n",
       "    \n",
       "        &lt;script&gt;\n",
       "            L_NO_TOUCH = false;\n",
       "            L_DISABLE_3D = false;\n",
       "        &lt;/script&gt;\n",
       "    \n",
       "    &lt;style&gt;html, body {width: 100%;height: 100%;margin: 0;padding: 0;}&lt;/style&gt;\n",
       "    &lt;style&gt;#map {position:absolute;top:0;bottom:0;right:0;left:0;}&lt;/style&gt;\n",
       "    &lt;script src=&quot;https://cdn.jsdelivr.net/npm/leaflet@1.6.0/dist/leaflet.js&quot;&gt;&lt;/script&gt;\n",
       "    &lt;script src=&quot;https://code.jquery.com/jquery-1.12.4.min.js&quot;&gt;&lt;/script&gt;\n",
       "    &lt;script src=&quot;https://maxcdn.bootstrapcdn.com/bootstrap/3.2.0/js/bootstrap.min.js&quot;&gt;&lt;/script&gt;\n",
       "    &lt;script src=&quot;https://cdnjs.cloudflare.com/ajax/libs/Leaflet.awesome-markers/2.0.2/leaflet.awesome-markers.js&quot;&gt;&lt;/script&gt;\n",
       "    &lt;link rel=&quot;stylesheet&quot; href=&quot;https://cdn.jsdelivr.net/npm/leaflet@1.6.0/dist/leaflet.css&quot;/&gt;\n",
       "    &lt;link rel=&quot;stylesheet&quot; href=&quot;https://maxcdn.bootstrapcdn.com/bootstrap/3.2.0/css/bootstrap.min.css&quot;/&gt;\n",
       "    &lt;link rel=&quot;stylesheet&quot; href=&quot;https://maxcdn.bootstrapcdn.com/bootstrap/3.2.0/css/bootstrap-theme.min.css&quot;/&gt;\n",
       "    &lt;link rel=&quot;stylesheet&quot; href=&quot;https://maxcdn.bootstrapcdn.com/font-awesome/4.6.3/css/font-awesome.min.css&quot;/&gt;\n",
       "    &lt;link rel=&quot;stylesheet&quot; href=&quot;https://cdnjs.cloudflare.com/ajax/libs/Leaflet.awesome-markers/2.0.2/leaflet.awesome-markers.css&quot;/&gt;\n",
       "    &lt;link rel=&quot;stylesheet&quot; href=&quot;https://cdn.jsdelivr.net/gh/python-visualization/folium/folium/templates/leaflet.awesome.rotate.min.css&quot;/&gt;\n",
       "    \n",
       "            &lt;meta name=&quot;viewport&quot; content=&quot;width=device-width,\n",
       "                initial-scale=1.0, maximum-scale=1.0, user-scalable=no&quot; /&gt;\n",
       "            &lt;style&gt;\n",
       "                #map_125b3719615f6ea7db197bd97c1a3f6c {\n",
       "                    position: relative;\n",
       "                    width: 100.0%;\n",
       "                    height: 100.0%;\n",
       "                    left: 0.0%;\n",
       "                    top: 0.0%;\n",
       "                }\n",
       "            &lt;/style&gt;\n",
       "        \n",
       "&lt;/head&gt;\n",
       "&lt;body&gt;    \n",
       "    \n",
       "            &lt;div class=&quot;folium-map&quot; id=&quot;map_125b3719615f6ea7db197bd97c1a3f6c&quot; &gt;&lt;/div&gt;\n",
       "        \n",
       "&lt;/body&gt;\n",
       "&lt;script&gt;    \n",
       "    \n",
       "            var map_125b3719615f6ea7db197bd97c1a3f6c = L.map(\n",
       "                &quot;map_125b3719615f6ea7db197bd97c1a3f6c&quot;,\n",
       "                {\n",
       "                    center: [-35.0, 20.0],\n",
       "                    crs: L.CRS.EPSG3857,\n",
       "                    maxBounds: [[-90, -180], [90, 180]],\n",
       "                    zoom: 5,\n",
       "                    zoomControl: true,\n",
       "                    preferCanvas: false,\n",
       "                }\n",
       "            );\n",
       "\n",
       "            \n",
       "\n",
       "        \n",
       "    \n",
       "            var tile_layer_306ef209790e547a6687853336908464 = L.tileLayer(\n",
       "                &quot;https://{s}.tile.openstreetmap.org/{z}/{x}/{y}.png&quot;,\n",
       "                {&quot;attribution&quot;: &quot;Data by \\u0026copy; \\u003ca href=\\&quot;http://openstreetmap.org\\&quot;\\u003eOpenStreetMap\\u003c/a\\u003e, under \\u003ca href=\\&quot;http://www.openstreetmap.org/copyright\\&quot;\\u003eODbL\\u003c/a\\u003e.&quot;, &quot;detectRetina&quot;: false, &quot;maxNativeZoom&quot;: 18, &quot;maxZoom&quot;: 18, &quot;minZoom&quot;: 0, &quot;noWrap&quot;: false, &quot;opacity&quot;: 1, &quot;subdomains&quot;: &quot;abc&quot;, &quot;tms&quot;: false}\n",
       "            ).addTo(map_125b3719615f6ea7db197bd97c1a3f6c);\n",
       "        \n",
       "    \n",
       "\n",
       "        function geo_json_110928e6a9a3c64b014cbaf41e487dc6_onEachFeature(feature, layer) {\n",
       "            layer.on({\n",
       "            });\n",
       "        };\n",
       "        var geo_json_110928e6a9a3c64b014cbaf41e487dc6 = L.geoJson(null, {\n",
       "                onEachFeature: geo_json_110928e6a9a3c64b014cbaf41e487dc6_onEachFeature,\n",
       "            \n",
       "        });\n",
       "\n",
       "        function geo_json_110928e6a9a3c64b014cbaf41e487dc6_add (data) {\n",
       "            geo_json_110928e6a9a3c64b014cbaf41e487dc6\n",
       "                .addData(data)\n",
       "                .addTo(map_125b3719615f6ea7db197bd97c1a3f6c);\n",
       "        }\n",
       "            geo_json_110928e6a9a3c64b014cbaf41e487dc6_add({&quot;geometry&quot;: {&quot;coordinates&quot;: [[[15.38611, -31.457628], [15.844687, -32.950211], [18.49868, -32.313969], [18.00108, -30.831369], [15.38611, -31.457628]]], &quot;type&quot;: &quot;Polygon&quot;}, &quot;properties&quot;: {&quot;beamModeType&quot;: &quot;IW&quot;, &quot;browse&quot;: [&quot;https://datapool.asf.alaska.edu/BROWSE/SA/S1A_IW_GRDH_1SDV_20220110T173454_20220110T173519_041401_04EC3B_8986.jpg&quot;], &quot;bytes&quot;: 747184800, &quot;centerLat&quot;: -31.8954, &quot;centerLon&quot;: 16.9352, &quot;faradayRotation&quot;: null, &quot;fileID&quot;: &quot;S1A_IW_GRDH_1SDV_20220110T173454_20220110T173519_041401_04EC3B_8986-GRD_HD&quot;, &quot;fileName&quot;: &quot;S1A_IW_GRDH_1SDV_20220110T173454_20220110T173519_041401_04EC3B_8986.zip&quot;, &quot;flightDirection&quot;: &quot;ASCENDING&quot;, &quot;frameNumber&quot;: 1073, &quot;granuleType&quot;: &quot;SENTINEL_1A_FRAME&quot;, &quot;groupID&quot;: &quot;S1A_IWDV_1072_1078_041401_029&quot;, &quot;insarStackId&quot;: null, &quot;md5sum&quot;: &quot;233653d45d96c9c55fe45b5fa8ea60c2&quot;, &quot;offNadirAngle&quot;: null, &quot;orbit&quot;: 41401, &quot;pathNumber&quot;: 29, &quot;platform&quot;: &quot;Sentinel-1A&quot;, &quot;pointingAngle&quot;: null, &quot;polarization&quot;: &quot;VV+VH&quot;, &quot;processingDate&quot;: &quot;2022-01-10T17:34:54.000Z&quot;, &quot;processingLevel&quot;: &quot;GRD_HD&quot;, &quot;sceneName&quot;: &quot;S1A_IW_GRDH_1SDV_20220110T173454_20220110T173519_041401_04EC3B_8986&quot;, &quot;sensor&quot;: &quot;C-SAR&quot;, &quot;startTime&quot;: &quot;2022-01-10T17:34:54.000Z&quot;, &quot;stopTime&quot;: &quot;2022-01-10T17:35:19.000Z&quot;, &quot;url&quot;: &quot;https://datapool.asf.alaska.edu/GRD_HD/SA/S1A_IW_GRDH_1SDV_20220110T173454_20220110T173519_041401_04EC3B_8986.zip&quot;}, &quot;type&quot;: &quot;Feature&quot;});\n",
       "\n",
       "        \n",
       "    \n",
       "        var popup_2c4294be3900dd73118d4ddd494f1588 = L.popup({&quot;maxWidth&quot;: &quot;100%&quot;});\n",
       "\n",
       "        \n",
       "            var html_945de1c7b179442836d84989a7307ec6 = $(`&lt;div id=&quot;html_945de1c7b179442836d84989a7307ec6&quot; style=&quot;width: 100.0%; height: 100.0%;&quot;&gt;S1A_IW_GRDH_1SDV_20220110T173454_20220110T173519_041401_04EC3B_8986-GRD_HD&lt;/div&gt;`)[0];\n",
       "            popup_2c4294be3900dd73118d4ddd494f1588.setContent(html_945de1c7b179442836d84989a7307ec6);\n",
       "        \n",
       "\n",
       "        geo_json_110928e6a9a3c64b014cbaf41e487dc6.bindPopup(popup_2c4294be3900dd73118d4ddd494f1588)\n",
       "        ;\n",
       "\n",
       "        \n",
       "    \n",
       "    \n",
       "\n",
       "        function geo_json_f2b7073b36ca065f263edb45dc3786ef_onEachFeature(feature, layer) {\n",
       "            layer.on({\n",
       "            });\n",
       "        };\n",
       "        var geo_json_f2b7073b36ca065f263edb45dc3786ef = L.geoJson(null, {\n",
       "                onEachFeature: geo_json_f2b7073b36ca065f263edb45dc3786ef_onEachFeature,\n",
       "            \n",
       "        });\n",
       "\n",
       "        function geo_json_f2b7073b36ca065f263edb45dc3786ef_add (data) {\n",
       "            geo_json_f2b7073b36ca065f263edb45dc3786ef\n",
       "                .addData(data)\n",
       "                .addTo(map_125b3719615f6ea7db197bd97c1a3f6c);\n",
       "        }\n",
       "            geo_json_f2b7073b36ca065f263edb45dc3786ef_add({&quot;geometry&quot;: {&quot;coordinates&quot;: [[[15.844714, -32.950302], [16.317905, -34.440975], [19.015709, -33.793701], [18.500645, -32.313568], [15.844714, -32.950302]]], &quot;type&quot;: &quot;Polygon&quot;}, &quot;properties&quot;: {&quot;beamModeType&quot;: &quot;IW&quot;, &quot;browse&quot;: [&quot;https://datapool.asf.alaska.edu/BROWSE/SA/S1A_IW_GRDH_1SDV_20220110T173429_20220110T173454_041401_04EC3B_31E4.jpg&quot;], &quot;bytes&quot;: 786674620, &quot;centerLat&quot;: -33.3822, &quot;centerLon&quot;: 17.4226, &quot;faradayRotation&quot;: null, &quot;fileID&quot;: &quot;S1A_IW_GRDH_1SDV_20220110T173429_20220110T173454_041401_04EC3B_31E4-GRD_HD&quot;, &quot;fileName&quot;: &quot;S1A_IW_GRDH_1SDV_20220110T173429_20220110T173454_041401_04EC3B_31E4.zip&quot;, &quot;flightDirection&quot;: &quot;ASCENDING&quot;, &quot;frameNumber&quot;: 1068, &quot;granuleType&quot;: &quot;SENTINEL_1A_FRAME&quot;, &quot;groupID&quot;: &quot;S1A_IWDV_1067_1073_041401_029&quot;, &quot;insarStackId&quot;: null, &quot;md5sum&quot;: &quot;f11461b24175b3d11a152c26e3a50b94&quot;, &quot;offNadirAngle&quot;: null, &quot;orbit&quot;: 41401, &quot;pathNumber&quot;: 29, &quot;platform&quot;: &quot;Sentinel-1A&quot;, &quot;pointingAngle&quot;: null, &quot;polarization&quot;: &quot;VV+VH&quot;, &quot;processingDate&quot;: &quot;2022-01-10T17:34:29.000Z&quot;, &quot;processingLevel&quot;: &quot;GRD_HD&quot;, &quot;sceneName&quot;: &quot;S1A_IW_GRDH_1SDV_20220110T173429_20220110T173454_041401_04EC3B_31E4&quot;, &quot;sensor&quot;: &quot;C-SAR&quot;, &quot;startTime&quot;: &quot;2022-01-10T17:34:29.000Z&quot;, &quot;stopTime&quot;: &quot;2022-01-10T17:34:54.000Z&quot;, &quot;url&quot;: &quot;https://datapool.asf.alaska.edu/GRD_HD/SA/S1A_IW_GRDH_1SDV_20220110T173429_20220110T173454_041401_04EC3B_31E4.zip&quot;}, &quot;type&quot;: &quot;Feature&quot;});\n",
       "\n",
       "        \n",
       "    \n",
       "        var popup_e00c1fb081c83ea93dbf464d8da72191 = L.popup({&quot;maxWidth&quot;: &quot;100%&quot;});\n",
       "\n",
       "        \n",
       "            var html_19b83657a1bcd47702864f7245229bea = $(`&lt;div id=&quot;html_19b83657a1bcd47702864f7245229bea&quot; style=&quot;width: 100.0%; height: 100.0%;&quot;&gt;S1A_IW_GRDH_1SDV_20220110T173429_20220110T173454_041401_04EC3B_31E4-GRD_HD&lt;/div&gt;`)[0];\n",
       "            popup_e00c1fb081c83ea93dbf464d8da72191.setContent(html_19b83657a1bcd47702864f7245229bea);\n",
       "        \n",
       "\n",
       "        geo_json_f2b7073b36ca065f263edb45dc3786ef.bindPopup(popup_e00c1fb081c83ea93dbf464d8da72191)\n",
       "        ;\n",
       "\n",
       "        \n",
       "    \n",
       "    \n",
       "\n",
       "        function geo_json_1986b9edd2168f69f7e4e9d60977333b_onEachFeature(feature, layer) {\n",
       "            layer.on({\n",
       "            });\n",
       "        };\n",
       "        var geo_json_1986b9edd2168f69f7e4e9d60977333b = L.geoJson(null, {\n",
       "                onEachFeature: geo_json_1986b9edd2168f69f7e4e9d60977333b_onEachFeature,\n",
       "            \n",
       "        });\n",
       "\n",
       "        function geo_json_1986b9edd2168f69f7e4e9d60977333b_add (data) {\n",
       "            geo_json_1986b9edd2168f69f7e4e9d60977333b\n",
       "                .addData(data)\n",
       "                .addTo(map_125b3719615f6ea7db197bd97c1a3f6c);\n",
       "        }\n",
       "            geo_json_1986b9edd2168f69f7e4e9d60977333b_add({&quot;geometry&quot;: {&quot;coordinates&quot;: [[[16.317934, -34.441063], [16.807056, -35.929771], [19.551708, -35.270859], [19.017704, -33.793293], [16.317934, -34.441063]]], &quot;type&quot;: &quot;Polygon&quot;}, &quot;properties&quot;: {&quot;beamModeType&quot;: &quot;IW&quot;, &quot;browse&quot;: [&quot;https://datapool.asf.alaska.edu/BROWSE/SA/S1A_IW_GRDH_1SDV_20220110T173404_20220110T173429_041401_04EC3B_3847.jpg&quot;], &quot;bytes&quot;: 796426918, &quot;centerLat&quot;: -34.8667, &quot;centerLon&quot;: 17.9267, &quot;faradayRotation&quot;: null, &quot;fileID&quot;: &quot;S1A_IW_GRDH_1SDV_20220110T173404_20220110T173429_041401_04EC3B_3847-GRD_HD&quot;, &quot;fileName&quot;: &quot;S1A_IW_GRDH_1SDV_20220110T173404_20220110T173429_041401_04EC3B_3847.zip&quot;, &quot;flightDirection&quot;: &quot;ASCENDING&quot;, &quot;frameNumber&quot;: 1063, &quot;granuleType&quot;: &quot;SENTINEL_1A_FRAME&quot;, &quot;groupID&quot;: &quot;S1A_IWDV_1062_1068_041401_029&quot;, &quot;insarStackId&quot;: null, &quot;md5sum&quot;: &quot;b08aab4fe4a4a10a66ce24bc3380dad7&quot;, &quot;offNadirAngle&quot;: null, &quot;orbit&quot;: 41401, &quot;pathNumber&quot;: 29, &quot;platform&quot;: &quot;Sentinel-1A&quot;, &quot;pointingAngle&quot;: null, &quot;polarization&quot;: &quot;VV+VH&quot;, &quot;processingDate&quot;: &quot;2022-01-10T17:34:04.000Z&quot;, &quot;processingLevel&quot;: &quot;GRD_HD&quot;, &quot;sceneName&quot;: &quot;S1A_IW_GRDH_1SDV_20220110T173404_20220110T173429_041401_04EC3B_3847&quot;, &quot;sensor&quot;: &quot;C-SAR&quot;, &quot;startTime&quot;: &quot;2022-01-10T17:34:04.000Z&quot;, &quot;stopTime&quot;: &quot;2022-01-10T17:34:29.000Z&quot;, &quot;url&quot;: &quot;https://datapool.asf.alaska.edu/GRD_HD/SA/S1A_IW_GRDH_1SDV_20220110T173404_20220110T173429_041401_04EC3B_3847.zip&quot;}, &quot;type&quot;: &quot;Feature&quot;});\n",
       "\n",
       "        \n",
       "    \n",
       "        var popup_f1fc09f11a7b9d33422264e56dddef6e = L.popup({&quot;maxWidth&quot;: &quot;100%&quot;});\n",
       "\n",
       "        \n",
       "            var html_2b20510b280223011bc25625dadf3bd0 = $(`&lt;div id=&quot;html_2b20510b280223011bc25625dadf3bd0&quot; style=&quot;width: 100.0%; height: 100.0%;&quot;&gt;S1A_IW_GRDH_1SDV_20220110T173404_20220110T173429_041401_04EC3B_3847-GRD_HD&lt;/div&gt;`)[0];\n",
       "            popup_f1fc09f11a7b9d33422264e56dddef6e.setContent(html_2b20510b280223011bc25625dadf3bd0);\n",
       "        \n",
       "\n",
       "        geo_json_1986b9edd2168f69f7e4e9d60977333b.bindPopup(popup_f1fc09f11a7b9d33422264e56dddef6e)\n",
       "        ;\n",
       "\n",
       "        \n",
       "    \n",
       "    \n",
       "\n",
       "        function geo_json_d2a177f1e7d39499adfb8cdcac4886e0_onEachFeature(feature, layer) {\n",
       "            layer.on({\n",
       "            });\n",
       "        };\n",
       "        var geo_json_d2a177f1e7d39499adfb8cdcac4886e0 = L.geoJson(null, {\n",
       "                onEachFeature: geo_json_d2a177f1e7d39499adfb8cdcac4886e0_onEachFeature,\n",
       "            \n",
       "        });\n",
       "\n",
       "        function geo_json_d2a177f1e7d39499adfb8cdcac4886e0_add (data) {\n",
       "            geo_json_d2a177f1e7d39499adfb8cdcac4886e0\n",
       "                .addData(data)\n",
       "                .addTo(map_125b3719615f6ea7db197bd97c1a3f6c);\n",
       "        }\n",
       "            geo_json_d2a177f1e7d39499adfb8cdcac4886e0_add({&quot;geometry&quot;: {&quot;coordinates&quot;: [[[16.807087, -35.929863], [17.313501, -37.416279], [20.108215, -36.745056], [19.553738, -35.270443], [16.807087, -35.929863]]], &quot;type&quot;: &quot;Polygon&quot;}, &quot;properties&quot;: {&quot;beamModeType&quot;: &quot;IW&quot;, &quot;browse&quot;: [&quot;https://datapool.asf.alaska.edu/BROWSE/SA/S1A_IW_GRDH_1SDV_20220110T173339_20220110T173404_041401_04EC3B_BE05.jpg&quot;], &quot;bytes&quot;: 797917299, &quot;centerLat&quot;: -36.3488, &quot;centerLon&quot;: 18.4491, &quot;faradayRotation&quot;: null, &quot;fileID&quot;: &quot;S1A_IW_GRDH_1SDV_20220110T173339_20220110T173404_041401_04EC3B_BE05-GRD_HD&quot;, &quot;fileName&quot;: &quot;S1A_IW_GRDH_1SDV_20220110T173339_20220110T173404_041401_04EC3B_BE05.zip&quot;, &quot;flightDirection&quot;: &quot;ASCENDING&quot;, &quot;frameNumber&quot;: 1058, &quot;granuleType&quot;: &quot;SENTINEL_1A_FRAME&quot;, &quot;groupID&quot;: &quot;S1A_IWDV_1057_1063_041401_029&quot;, &quot;insarStackId&quot;: null, &quot;md5sum&quot;: &quot;7e74bb91eb19ffb795c4a9e2d5c733e3&quot;, &quot;offNadirAngle&quot;: null, &quot;orbit&quot;: 41401, &quot;pathNumber&quot;: 29, &quot;platform&quot;: &quot;Sentinel-1A&quot;, &quot;pointingAngle&quot;: null, &quot;polarization&quot;: &quot;VV+VH&quot;, &quot;processingDate&quot;: &quot;2022-01-10T17:33:39.000Z&quot;, &quot;processingLevel&quot;: &quot;GRD_HD&quot;, &quot;sceneName&quot;: &quot;S1A_IW_GRDH_1SDV_20220110T173339_20220110T173404_041401_04EC3B_BE05&quot;, &quot;sensor&quot;: &quot;C-SAR&quot;, &quot;startTime&quot;: &quot;2022-01-10T17:33:39.000Z&quot;, &quot;stopTime&quot;: &quot;2022-01-10T17:34:04.000Z&quot;, &quot;url&quot;: &quot;https://datapool.asf.alaska.edu/GRD_HD/SA/S1A_IW_GRDH_1SDV_20220110T173339_20220110T173404_041401_04EC3B_BE05.zip&quot;}, &quot;type&quot;: &quot;Feature&quot;});\n",
       "\n",
       "        \n",
       "    \n",
       "        var popup_2597189a20347f2798535a0a2b38c60d = L.popup({&quot;maxWidth&quot;: &quot;100%&quot;});\n",
       "\n",
       "        \n",
       "            var html_ce7b2b6a6f3c99be7c7ace8153789ac3 = $(`&lt;div id=&quot;html_ce7b2b6a6f3c99be7c7ace8153789ac3&quot; style=&quot;width: 100.0%; height: 100.0%;&quot;&gt;S1A_IW_GRDH_1SDV_20220110T173339_20220110T173404_041401_04EC3B_BE05-GRD_HD&lt;/div&gt;`)[0];\n",
       "            popup_2597189a20347f2798535a0a2b38c60d.setContent(html_ce7b2b6a6f3c99be7c7ace8153789ac3);\n",
       "        \n",
       "\n",
       "        geo_json_d2a177f1e7d39499adfb8cdcac4886e0.bindPopup(popup_2597189a20347f2798535a0a2b38c60d)\n",
       "        ;\n",
       "\n",
       "        \n",
       "    \n",
       "&lt;/script&gt;\" width=\"800\" height=\"500\"style=\"border:none !important;\" \"allowfullscreen\" \"webkitallowfullscreen\" \"mozallowfullscreen\"></iframe>"
      ],
      "text/plain": [
       "<folium.folium.Map at 0x407e30bb50>"
      ]
     },
     "execution_count": 6,
     "metadata": {},
     "output_type": "execute_result"
    }
   ],
   "source": [
    "# Step 4: Plot footprints of downloaded products at an interactive map\n",
    "# NOTE: You can click of each tile to discover the name of product that can be further used for\n",
    "# downloading an exact tile (instead of the whole query set)\n",
    "f = folium.Figure(width=800, height=500)\n",
    "m = folium.Map(location=[-35, 20], zoom_start=5, max_bounds=True).add_to(f)\n",
    "for product in asf_query_set:\n",
    "    f = folium.GeoJson(product.geojson())\n",
    "    f.add_child(folium.Popup(product.meta['native-id']))\n",
    "    m.add_child(f)\n",
    "m"
   ]
  },
  {
   "cell_type": "code",
   "execution_count": 7,
   "metadata": {},
   "outputs": [
    {
     "name": "stdout",
     "output_type": "stream",
     "text": [
      "S1A_IW_GRDH_1SDV_20220110T173454_20220110T173519_041401_04EC3B_8986-GRD_HD\n"
     ]
    },
    {
     "data": {
      "text/html": [
       "<img src=\"https://datapool.asf.alaska.edu/BROWSE/SA/S1A_IW_GRDH_1SDV_20220110T173454_20220110T173519_041401_04EC3B_8986.jpg\" width=\"800\"/>"
      ],
      "text/plain": [
       "<IPython.core.display.Image object>"
      ]
     },
     "execution_count": 7,
     "metadata": {},
     "output_type": "execute_result"
    }
   ],
   "source": [
    "# Step 5: Sentinel-1 metadata from ASF contain a ling for a false color qucklook image which can be\n",
    "# directly displaied in jupyter notebook.\n",
    "\n",
    "from IPython.display import Image\n",
    "print(asf_query_set[0].properties['fileID'])\n",
    "Image(url=asf_query_set[0].properties['browse'][0], width=800) "
   ]
  },
  {
   "cell_type": "code",
   "execution_count": 8,
   "metadata": {},
   "outputs": [
    {
     "name": "stdout",
     "output_type": "stream",
     "text": [
      ">> Found 1 products in ASF database\n",
      ">> Downloading 1 files: "
     ]
    },
    {
     "name": "stderr",
     "output_type": "stream",
     "text": [
      "/opt/conda/lib/python3.7/site-packages/asf_search/download/download.py:62: UserWarning: File already exists, skipping download: /src/.devcontainer/S1A_IW_GRDH_1SDV_20220110T173429_20220110T173454_041401_04EC3B_31E4.zip\n",
      "  warnings.warn(f'File already exists, skipping download: {os.path.join(path, filename)}')\n"
     ]
    },
    {
     "name": "stdout",
     "output_type": "stream",
     "text": [
      "0:00:04.453920 complete!\n",
      ">> Unpacking /src/.devcontainer/S1A_IW_GRDH_1SDV_20220110T173429_20220110T173454_041401_04EC3B_31E4.zip 0:03:37.913016 complete!\n"
     ]
    }
   ],
   "source": [
    "# Step 6: Download the data. It is possible to download all granules from the query set or a single granule.\n",
    "# NOTE: To download data from the ASF you have to create an account at ASF\n",
    "# We will use the same function as for data searching, but with additional parameters required\n",
    "# for data download\n",
    "\n",
    "# Step 6.1. If you don't want to download all products from the query set you can download a single granule\n",
    "# which can be identified from the search (see Sep 3 and 4)\n",
    "granule_id = 'S1A_IW_GRDH_1SDV_20220110T173429_20220110T173454_041401_04EC3B_31E4-GRD_HD'\n",
    "# Step 6.2. Define the path where downloaded product will be stored\n",
    "dst_path = '/src/.devcontainer/'\n",
    "asf_query_set, downloaded_uris = fetch_asf_s1_data(\n",
    "    granule_id=granule_id, # Specific granule ID to be downloaded\n",
    "    download=True,         # Find and download the data\n",
    "    dst=dst_path,          # Download data to this path\n",
    "    unpack=True            # Unpack SAFE product from the zip archive and delete zip archive\n",
    ")"
   ]
  }
 ],
 "metadata": {
  "kernelspec": {
   "display_name": "Python 3.7.12 ('base')",
   "language": "python",
   "name": "python3"
  },
  "language_info": {
   "codemirror_mode": {
    "name": "ipython",
    "version": 3
   },
   "file_extension": ".py",
   "mimetype": "text/x-python",
   "name": "python",
   "nbconvert_exporter": "python",
   "pygments_lexer": "ipython3",
   "version": "3.7.12"
  },
  "orig_nbformat": 4,
  "vscode": {
   "interpreter": {
    "hash": "d4d1e4263499bec80672ea0156c357c1ee493ec2b1c70f0acce89fc37c4a6abe"
   }
  }
 },
 "nbformat": 4,
 "nbformat_minor": 2
}
